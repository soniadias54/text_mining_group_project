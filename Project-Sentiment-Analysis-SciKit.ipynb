{
 "cells": [
  {
   "cell_type": "code",
   "execution_count": 2,
   "id": "1df25d96",
   "metadata": {},
   "outputs": [],
   "source": [
    "import pathlib\n",
    "import sklearn\n",
    "import numpy\n",
    "import nltk\n",
    "from nltk.corpus import stopwords\n",
    "from collections import Counter\n",
    "from sklearn.datasets import load_files\n",
    "from sklearn.feature_extraction.text import CountVectorizer\n",
    "from sklearn.feature_extraction.text import TfidfTransformer"
   ]
  },
  {
   "cell_type": "code",
   "execution_count": 3,
   "id": "102dc205",
   "metadata": {},
   "outputs": [
    {
     "name": "stdout",
     "output_type": "stream",
     "text": [
      "path: /Users/soniadias/Desktop/classes/text mining for ai /ba-text-mining/lab_sessions/movie_reviews_dataset\n",
      "this will print True if the folder exists: True\n"
     ]
    }
   ],
   "source": [
    "cwd = pathlib.Path.cwd()\n",
    "movie_reviews_folder = cwd.joinpath('movie_reviews_dataset')\n",
    "print('path:', movie_reviews_folder)\n",
    "print('this will print True if the folder exists:', \n",
    "      movie_reviews_folder.exists())"
   ]
  },
  {
   "cell_type": "code",
   "execution_count": 7,
   "id": "c5b17d20",
   "metadata": {},
   "outputs": [
    {
     "name": "stdout",
     "output_type": "stream",
     "text": [
      "Length of dataset: 2000\n",
      "neg 1000\n",
      "pos 1000\n"
     ]
    }
   ],
   "source": [
    "# loading all files as training data.\n",
    "movie_reviews_train = load_files(str(movie_reviews_folder))\n",
    "print(\"Length of dataset: \" + str(len(movie_reviews_train.data)))\n",
    "freqs = Counter(movie_reviews_train.target)\n",
    "for category, frequency in freqs.items():\n",
    "    print(movie_reviews_train.target_names[category], frequency)"
   ]
  },
  {
   "cell_type": "code",
   "execution_count": 13,
   "id": "c247321a",
   "metadata": {},
   "outputs": [
    {
     "name": "stderr",
     "output_type": "stream",
     "text": [
      "/Users/soniadias/opt/anaconda3/lib/python3.9/site-packages/sklearn/feature_extraction/text.py:396: UserWarning: Your stop_words may be inconsistent with your preprocessing. Tokenizing the stop words generated tokens [\"'d\", \"'ll\", \"'re\", \"'s\", \"'ve\", 'could', 'might', 'must', \"n't\", 'need', 'sha', 'wo', 'would'] not in stop_words.\n",
      "  warnings.warn(\n"
     ]
    }
   ],
   "source": [
    "movie_vec = CountVectorizer(min_df=2, # If a token appears fewer times than this, across all documents, it will be ignored\n",
    "                             tokenizer=nltk.word_tokenize, # we use the nltk tokenizer\n",
    "                             stop_words=stopwords.words('english')) # stopwords are removed\n",
    "movie_counts = movie_vec.fit_transform(movie_reviews_train.data)\n"
   ]
  },
  {
   "cell_type": "code",
   "execution_count": 14,
   "id": "2dea50d3",
   "metadata": {},
   "outputs": [
    {
     "name": "stdout",
     "output_type": "stream",
     "text": [
      "25139\n",
      "['\\x14', '\\x16', '!', '#', '$', '%', '&', \"'\", \"''\", \"'40s\", \"'50s\", \"'60s\", \"'70s\", \"'80s\", \"'90\", \"'90s\", \"'94\", \"'96\", \"'97\", \"'98\", \"'being\", \"'bout\", \"'carry\", \"'cause\", \"'comedy\", \"'d\", \"'dark\", \"'do\", \"'em\", \"'end\", \"'funny\", \"'ghetto\", \"'good\", \"'if\", \"'ll\", \"'m\", \"'matron\", \"'n\", \"'new\", \"'no\", \"'normal\", \"'nuff\", \"'psycho\", \"'re\", \"'romeo\", \"'round\", \"'rumble\", \"'s\", \"'secret\", \"'star\", \"'straight\", \"'t\", \"'the\", \"'three\", \"'til\", \"'till\", \"'ve\", \"'what\", \"'when\", \"'you\", '(', ')', '*', '+', '+2', '+3', '+4', ',', '-', '--', '-1', '-4', '-and', '-awarded', '-but', '-ed', '-esque', '-give', '-it', '-jack', '-like', '-lite', '-reviewed', '-ridden', '-so', '-type', '.', '/', '//filmfreakcentral', '//www', '0', '00', '000', '007', '05', '1', '1/10', '1/2', '1/25th', '1/29/97']\n"
     ]
    }
   ],
   "source": [
    "print(len(movie_vec.vocabulary_))\n",
    "print(list(movie_vec.get_feature_names_out())[:100])"
   ]
  },
  {
   "cell_type": "code",
   "execution_count": 15,
   "id": "7ee5d8fb",
   "metadata": {},
   "outputs": [],
   "source": [
    "# Convert raw frequency counts into TF-IDF values\n",
    "tfidf_transformer = TfidfTransformer()\n",
    "movie_tfidf = tfidf_transformer.fit_transform(movie_counts)"
   ]
  },
  {
   "cell_type": "code",
   "execution_count": 16,
   "id": "3f6f37f3",
   "metadata": {},
   "outputs": [],
   "source": [
    "# training the Naive Bayes Classifier\n",
    "\n",
    "# using Multinominal Naive Bayes as model\n",
    "from sklearn.naive_bayes import MultinomialNB\n",
    "\n",
    "# Split data into training and test sets\n",
    "# from sklearn.cross_validation import train_test_split \n",
    "from sklearn.model_selection import train_test_split\n",
    "\n",
    "docs_train, docs_test, y_train, y_test = train_test_split(\n",
    "    movie_tfidf, # the tf-idf model\n",
    "    movie_reviews_train.target, # the category values for each review \n",
    "    test_size = 0.20 # we use 80% for training and 20% for development\n",
    "    ) \n"
   ]
  },
  {
   "cell_type": "code",
   "execution_count": 17,
   "id": "56deb548",
   "metadata": {},
   "outputs": [],
   "source": [
    "# Train a Multimoda Naive Bayes classifier\n",
    "clf = MultinomialNB().fit(docs_train, y_train)"
   ]
  },
  {
   "cell_type": "code",
   "execution_count": 18,
   "id": "fdb046d0",
   "metadata": {},
   "outputs": [],
   "source": [
    "# Predicting the Test set results, find macro recall\n",
    "y_pred = clf.predict(docs_test)"
   ]
  },
  {
   "cell_type": "code",
   "execution_count": 19,
   "id": "78818220",
   "metadata": {},
   "outputs": [
    {
     "data": {
      "text/plain": [
       "0.8325"
      ]
     },
     "execution_count": 19,
     "metadata": {},
     "output_type": "execute_result"
    }
   ],
   "source": [
    "sklearn.metrics.recall_score(y_true=y_test,\n",
    "                             y_pred=y_pred,\n",
    "                             average='micro')"
   ]
  },
  {
   "cell_type": "code",
   "execution_count": 32,
   "id": "82e3295b",
   "metadata": {},
   "outputs": [
    {
     "name": "stdout",
     "output_type": "stream",
     "text": [
      "['It took eight years for Warner Brothers to recover from the disaster that was this movie.', 'All the New York University students love this diner in Soho so it makes for a fun young atmosphere.', 'This Italian place is really trendy but they have forgotten about the most important part of a restaurant, the food.', 'In conclusion, my review of this book would be: I like Jane Austen and understand why she is famous.', 'The story of this movie is focused on Carl Brashear played by Cuba Gooding Jr. who wants to be the first African American deep sea diver in the Navy.', \"Chris O'Donnell stated that while filming for this movie, he felt like he was in a toy commercial.\", 'My husband and I moved to Amsterdam 6 years ago and for as long as we have lived here, Blauwbrug has been our favorite place to eat!', 'Dame Maggie Smith performed her role excellently, as she does in all her movies.', 'The new movie by Mr. Kruno was shot in New York, but the story takes place in Los Angeles.', \"I always have loved English novels, but I just couldn't get into this one.\"]\n",
      "['negative', 'positive', 'negative', 'positive', 'neutral', 'neutral', 'positive', 'positive', 'neutral', 'negative']\n"
     ]
    }
   ],
   "source": [
    "import csv\n",
    "test_set = []\n",
    "test_set_gold_labels = []\n",
    "\n",
    "with open(\"/Users/soniadias/Desktop/classes/text mining for ai /ba-text-mining/lab_sessions/sentiment-topic-final-test.tsv\") as file:\n",
    "    tsv_file = csv.reader(file, delimiter=\"\\t\")\n",
    "    for line in tsv_file:\n",
    "        text = line[1]\n",
    "        if text == \"text\":\n",
    "            continue\n",
    "        sentiment = line[2]\n",
    "        test_set.append(text)\n",
    "        test_set_gold_labels.append(sentiment)\n",
    "print(test_set)\n",
    "print(test_set_gold_labels)"
   ]
  },
  {
   "cell_type": "code",
   "execution_count": 24,
   "id": "813b350c",
   "metadata": {},
   "outputs": [
    {
     "data": {
      "text/plain": [
       "(10, 25139)"
      ]
     },
     "execution_count": 24,
     "metadata": {},
     "output_type": "execute_result"
    }
   ],
   "source": [
    "# We re-use movie vec to transform it in the same way as the training data\n",
    "new_counts = movie_vec.transform(test_set)\n",
    "new_counts.shape"
   ]
  },
  {
   "cell_type": "code",
   "execution_count": 25,
   "id": "13d47342",
   "metadata": {},
   "outputs": [],
   "source": [
    "# we compute tf idf values\n",
    "test_new_tfidf = tfidf_transformer.transform(new_counts)"
   ]
  },
  {
   "cell_type": "code",
   "execution_count": 26,
   "id": "05b1444e",
   "metadata": {},
   "outputs": [],
   "source": [
    "# have classifier make a prediction\n",
    "pred = clf.predict(test_new_tfidf)"
   ]
  },
  {
   "cell_type": "code",
   "execution_count": 28,
   "id": "f7d18b3c",
   "metadata": {},
   "outputs": [
    {
     "name": "stdout",
     "output_type": "stream",
     "text": [
      "It took eight years for Warner Brothers to recover from the disaster that was this movie. => pos\n",
      "All the New York University students love this diner in Soho so it makes for a fun young atmosphere. => pos\n",
      "This Italian place is really trendy but they have forgotten about the most important part of a restaurant, the food. => pos\n",
      "In conclusion, my review of this book would be: I like Jane Austen and understand why she is famous. => pos\n",
      "The story of this movie is focused on Carl Brashear played by Cuba Gooding Jr. who wants to be the first African American deep sea diver in the Navy. => pos\n",
      "Chris O'Donnell stated that while filming for this movie, he felt like he was in a toy commercial. => neg\n",
      "My husband and I moved to Amsterdam 6 years ago and for as long as we have lived here, Blauwbrug has been our favorite place to eat! => pos\n",
      "Dame Maggie Smith performed her role excellently, as she does in all her movies. => pos\n",
      "The new movie by Mr. Kruno was shot in New York, but the story takes place in Los Angeles. => pos\n",
      "I always have loved English novels, but I just couldn't get into this one. => pos\n"
     ]
    }
   ],
   "source": [
    "# model prediction results\n",
    "for review, predicted_label in zip(test_set, pred):\n",
    "    \n",
    "    print('%s => %s' % (review, \n",
    "                        movie_reviews_train.target_names[predicted_label]))"
   ]
  },
  {
   "cell_type": "code",
   "execution_count": 33,
   "id": "15546b02",
   "metadata": {},
   "outputs": [
    {
     "name": "stdout",
     "output_type": "stream",
     "text": [
      "It took eight years for Warner Brothers to recover from the disaster that was this movie. => negative\n",
      "All the New York University students love this diner in Soho so it makes for a fun young atmosphere. => positive\n",
      "This Italian place is really trendy but they have forgotten about the most important part of a restaurant, the food. => negative\n",
      "In conclusion, my review of this book would be: I like Jane Austen and understand why she is famous. => positive\n",
      "The story of this movie is focused on Carl Brashear played by Cuba Gooding Jr. who wants to be the first African American deep sea diver in the Navy. => neutral\n",
      "Chris O'Donnell stated that while filming for this movie, he felt like he was in a toy commercial. => neutral\n",
      "My husband and I moved to Amsterdam 6 years ago and for as long as we have lived here, Blauwbrug has been our favorite place to eat! => positive\n",
      "Dame Maggie Smith performed her role excellently, as she does in all her movies. => positive\n",
      "The new movie by Mr. Kruno was shot in New York, but the story takes place in Los Angeles. => neutral\n",
      "I always have loved English novels, but I just couldn't get into this one. => negative\n"
     ]
    }
   ],
   "source": [
    "# actual expected results from test results\n",
    "for i in range(len(test_set)):\n",
    "    print('%s => %s' % (test_set[i], \n",
    "                        test_set_gold_labels[i]))"
   ]
  },
  {
   "cell_type": "code",
   "execution_count": null,
   "id": "8b85056d",
   "metadata": {},
   "outputs": [],
   "source": []
  }
 ],
 "metadata": {
  "kernelspec": {
   "display_name": "Python 3 (ipykernel)",
   "language": "python",
   "name": "python3"
  },
  "language_info": {
   "codemirror_mode": {
    "name": "ipython",
    "version": 3
   },
   "file_extension": ".py",
   "mimetype": "text/x-python",
   "name": "python",
   "nbconvert_exporter": "python",
   "pygments_lexer": "ipython3",
   "version": "3.9.13"
  }
 },
 "nbformat": 4,
 "nbformat_minor": 5
}
